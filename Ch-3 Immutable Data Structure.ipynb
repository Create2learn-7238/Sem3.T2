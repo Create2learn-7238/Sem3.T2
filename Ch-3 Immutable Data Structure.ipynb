{
 "cells": [
  {
   "cell_type": "markdown",
   "metadata": {},
   "source": [
    "# Immutable data Structure\n",
    "   * access the characters of string\n",
    " "
   ]
  },
  {
   "cell_type": "code",
   "execution_count": 7,
   "metadata": {},
   "outputs": [
    {
     "name": "stdout",
     "output_type": "stream",
     "text": [
      "l\n",
      "  Space\n"
     ]
    },
    {
     "ename": "IndexError",
     "evalue": "string index out of range",
     "output_type": "error",
     "traceback": [
      "\u001b[1;31m---------------------------------------------------------------------------\u001b[0m",
      "\u001b[1;31mIndexError\u001b[0m                                Traceback (most recent call last)",
      "\u001b[1;32m<ipython-input-7-16b944119990>\u001b[0m in \u001b[0;36m<module>\u001b[1;34m\u001b[0m\n\u001b[0;32m      2\u001b[0m \u001b[0mprint\u001b[0m\u001b[1;33m(\u001b[0m\u001b[0ms\u001b[0m\u001b[1;33m[\u001b[0m\u001b[1;36m2\u001b[0m\u001b[1;33m]\u001b[0m\u001b[1;33m)\u001b[0m\u001b[1;33m\u001b[0m\u001b[1;33m\u001b[0m\u001b[0m\n\u001b[0;32m      3\u001b[0m \u001b[0mprint\u001b[0m\u001b[1;33m(\u001b[0m\u001b[0ms\u001b[0m\u001b[1;33m[\u001b[0m\u001b[1;36m5\u001b[0m\u001b[1;33m]\u001b[0m\u001b[1;33m,\u001b[0m\u001b[1;34m\"Space\"\u001b[0m\u001b[1;33m)\u001b[0m\u001b[1;33m\u001b[0m\u001b[1;33m\u001b[0m\u001b[0m\n\u001b[1;32m----> 4\u001b[1;33m \u001b[0mprint\u001b[0m\u001b[1;33m(\u001b[0m\u001b[0ms\u001b[0m\u001b[1;33m[\u001b[0m\u001b[1;36m20\u001b[0m\u001b[1;33m]\u001b[0m\u001b[1;33m)\u001b[0m\u001b[1;33m\u001b[0m\u001b[1;33m\u001b[0m\u001b[0m\n\u001b[0m",
      "\u001b[1;31mIndexError\u001b[0m: string index out of range"
     ]
    }
   ],
   "source": [
    "s=\"Hello World\"\n",
    "print(s[2])\n",
    "print(s[5],\"Space\")\n",
    "print(s[20])"
   ]
  },
  {
   "cell_type": "code",
   "execution_count": 8,
   "metadata": {},
   "outputs": [
    {
     "name": "stdout",
     "output_type": "stream",
     "text": [
      "d\n",
      "W\n"
     ]
    }
   ],
   "source": [
    "print(s[-1])\n",
    "print(s[-5])"
   ]
  },
  {
   "cell_type": "markdown",
   "metadata": {},
   "source": [
    "## * By using Slicing Operator \n",
    "\n",
    "    Syntax ==> s[Begin index : end index : step]"
   ]
  },
  {
   "cell_type": "code",
   "execution_count": 9,
   "metadata": {},
   "outputs": [
    {
     "name": "stdout",
     "output_type": "stream",
     "text": [
      "earnin\n",
      "earnin\n"
     ]
    }
   ],
   "source": [
    "s='Learning Python is very Easy'\n",
    "print(s[1:7:1])\n",
    "print(s[1:7])"
   ]
  },
  {
   "cell_type": "code",
   "execution_count": 10,
   "metadata": {},
   "outputs": [
    {
     "name": "stdout",
     "output_type": "stream",
     "text": [
      "Learnin\n"
     ]
    }
   ],
   "source": [
    "print(s[:7])"
   ]
  },
  {
   "cell_type": "code",
   "execution_count": 11,
   "metadata": {},
   "outputs": [
    {
     "name": "stdout",
     "output_type": "stream",
     "text": [
      "ing Python is very Easy\n"
     ]
    }
   ],
   "source": [
    "print(s[5:])"
   ]
  },
  {
   "cell_type": "code",
   "execution_count": 12,
   "metadata": {},
   "outputs": [
    {
     "name": "stdout",
     "output_type": "stream",
     "text": [
      "eri\n"
     ]
    }
   ],
   "source": [
    "print(s[1:7:2])"
   ]
  },
  {
   "cell_type": "code",
   "execution_count": 13,
   "metadata": {},
   "outputs": [
    {
     "name": "stdout",
     "output_type": "stream",
     "text": [
      "Lann yhni eyEs\n"
     ]
    }
   ],
   "source": [
    "print(s[::2])"
   ]
  },
  {
   "cell_type": "code",
   "execution_count": 14,
   "metadata": {},
   "outputs": [
    {
     "name": "stdout",
     "output_type": "stream",
     "text": [
      "Learning Python is very Easy\n"
     ]
    }
   ],
   "source": [
    "print(s[:])"
   ]
  },
  {
   "cell_type": "code",
   "execution_count": 15,
   "metadata": {},
   "outputs": [
    {
     "name": "stdout",
     "output_type": "stream",
     "text": [
      "Learning Python is very Easy\n"
     ]
    }
   ],
   "source": [
    "print(s[::])"
   ]
  },
  {
   "cell_type": "markdown",
   "metadata": {},
   "source": [
    "* imp"
   ]
  },
  {
   "cell_type": "code",
   "execution_count": 16,
   "metadata": {},
   "outputs": [
    {
     "name": "stdout",
     "output_type": "stream",
     "text": [
      "ysaE yrev si nohtyP gninraeL\n"
     ]
    }
   ],
   "source": [
    "print(s[::-1])"
   ]
  },
  {
   "cell_type": "code",
   "execution_count": 17,
   "metadata": {},
   "outputs": [
    {
     "name": "stdout",
     "output_type": "stream",
     "text": [
      " Easy\n"
     ]
    }
   ],
   "source": [
    "print(s[-5::])"
   ]
  },
  {
   "cell_type": "code",
   "execution_count": 20,
   "metadata": {},
   "outputs": [
    {
     "name": "stdout",
     "output_type": "stream",
     "text": [
      " very Ea\n"
     ]
    }
   ],
   "source": [
    "print(s[-10:-2:])"
   ]
  },
  {
   "cell_type": "code",
   "execution_count": 32,
   "metadata": {},
   "outputs": [
    {
     "name": "stdout",
     "output_type": "stream",
     "text": [
      "Enter String : aaaa\n",
      "No\n"
     ]
    }
   ],
   "source": [
    "a=input(\"Enter String : \")\n",
    "print(\"Yes it is Palidrome\" if s==s[::-1] else \"No\" )"
   ]
  },
  {
   "cell_type": "markdown",
   "metadata": {},
   "source": [
    "## Mathematical operation for String\n",
    "- +==> String Concentration\n",
    "- *==> String Repetation"
   ]
  },
  {
   "cell_type": "code",
   "execution_count": 1,
   "metadata": {},
   "outputs": [
    {
     "name": "stdout",
     "output_type": "stream",
     "text": [
      "Dixit  Patel\n",
      "Dixit Dixit Dixit \n"
     ]
    }
   ],
   "source": [
    "print('Dixit '+' Patel')\n",
    "print('Dixit '*3)"
   ]
  },
  {
   "cell_type": "markdown",
   "metadata": {},
   "source": [
    "## Comparision of String"
   ]
  },
  {
   "cell_type": "code",
   "execution_count": 4,
   "metadata": {},
   "outputs": [
    {
     "name": "stdout",
     "output_type": "stream",
     "text": [
      "Enter String 1 : Aryan\n",
      "Enter String 2 : Arman\n",
      "S1 is greater\n"
     ]
    }
   ],
   "source": [
    "s1=input('Enter String 1 : ')\n",
    "s2=input('Enter String 2 : ')\n",
    "if s1==s2 :\n",
    "    print('Both r equal')\n",
    "elif s1>s2 :\n",
    "    print('S1 is greater')\n",
    "elif s1<s2 :\n",
    "    print('S2 is greater')"
   ]
  },
  {
   "cell_type": "markdown",
   "metadata": {},
   "source": [
    "### Joining of Strings\n",
    "- join a grp of String wrt the given seperation\n",
    "- syntax\n",
    "- s=seperator.join(grp of string)"
   ]
  },
  {
   "cell_type": "code",
   "execution_count": 8,
   "metadata": {},
   "outputs": [
    {
     "name": "stdout",
     "output_type": "stream",
     "text": [
      "Abc//Pqr//Xyz\n"
     ]
    }
   ],
   "source": [
    "t=('Abc','Pqr','Xyz')\n",
    "x='//'.join(t)\n",
    "print(x)"
   ]
  },
  {
   "cell_type": "markdown",
   "metadata": {},
   "source": [
    "## Formatting of String "
   ]
  },
  {
   "cell_type": "code",
   "execution_count": 10,
   "metadata": {},
   "outputs": [
    {
     "name": "stdout",
     "output_type": "stream",
     "text": [
      "Dixit's Salary is 40000 and Age is 21\n"
     ]
    }
   ],
   "source": [
    "name=\"Dixit\"\n",
    "sal=40000\n",
    "age=21\n",
    "print(\"{}'s Salary is {} and Age is {}\".format(name,sal,age))"
   ]
  },
  {
   "cell_type": "code",
   "execution_count": 12,
   "metadata": {},
   "outputs": [
    {
     "name": "stdout",
     "output_type": "stream",
     "text": [
      "21's Salary is Dixit and Age is 40000\n"
     ]
    }
   ],
   "source": [
    "print(\"{2}'s Salary is {0} and Age is {1}\".format(name,sal,age))"
   ]
  },
  {
   "cell_type": "markdown",
   "metadata": {},
   "source": [
    "## Imp function of String"
   ]
  },
  {
   "cell_type": "code",
   "execution_count": 14,
   "metadata": {},
   "outputs": [
    {
     "data": {
      "text/plain": [
       "12"
      ]
     },
     "execution_count": 14,
     "metadata": {},
     "output_type": "execute_result"
    }
   ],
   "source": [
    "s=\"Hello Python\"\n",
    "len(s)"
   ]
  },
  {
   "cell_type": "markdown",
   "metadata": {},
   "source": [
    "* Removing Spaces from String\n",
    "* 1) lstrip()\n",
    "* 2) rstrip()\n",
    "* 3) strip()"
   ]
  },
  {
   "cell_type": "code",
   "execution_count": 20,
   "metadata": {},
   "outputs": [
    {
     "name": "stdout",
     "output_type": "stream",
     "text": [
      "Apple   \n",
      "Apple\n",
      "8 s\n",
      "5 x\n"
     ]
    }
   ],
   "source": [
    "s=\"Apple   \"\n",
    "x=s.rstrip()\n",
    "print(s)\n",
    "print(x)\n",
    "print(len(s),\"s\")\n",
    "print(len(x),\"x\")"
   ]
  },
  {
   "cell_type": "code",
   "execution_count": 22,
   "metadata": {},
   "outputs": [
    {
     "name": "stdout",
     "output_type": "stream",
     "text": [
      "    Apple\n",
      "Apple\n",
      "9 s\n",
      "5 x\n"
     ]
    }
   ],
   "source": [
    "s=\"    Apple\"\n",
    "x=s.lstrip()\n",
    "print(s)\n",
    "print(x)\n",
    "print(len(s),\"s\")\n",
    "print(len(x),\"x\")"
   ]
  },
  {
   "cell_type": "code",
   "execution_count": 23,
   "metadata": {
    "scrolled": true
   },
   "outputs": [
    {
     "name": "stdout",
     "output_type": "stream",
     "text": [
      "    Apple     \n",
      "Apple\n",
      "14 s\n",
      "5 x\n"
     ]
    }
   ],
   "source": [
    "s=\"    Apple     \"\n",
    "x=s.strip()\n",
    "print(s)\n",
    "print(x)\n",
    "print(len(s),\"s\")\n",
    "print(len(x),\"x\")"
   ]
  },
  {
   "cell_type": "code",
   "execution_count": 27,
   "metadata": {},
   "outputs": [
    {
     "name": "stdout",
     "output_type": "stream",
     "text": [
      "Banan\n"
     ]
    }
   ],
   "source": [
    "s=\"Banana\"\n",
    "x=s.rstrip('a')\n",
    "print(x)"
   ]
  },
  {
   "cell_type": "code",
   "execution_count": 28,
   "metadata": {},
   "outputs": [
    {
     "name": "stdout",
     "output_type": "stream",
     "text": [
      "Banana \n"
     ]
    }
   ],
   "source": [
    "s=\"Banana \"\n",
    "x=s.rstrip('a')\n",
    "print(x)"
   ]
  },
  {
   "cell_type": "code",
   "execution_count": 37,
   "metadata": {},
   "outputs": [
    {
     "name": "stdout",
     "output_type": "stream",
     "text": [
      "B\n"
     ]
    }
   ],
   "source": [
    "s=\"Banana\"\n",
    "x=s.rstrip('na')\n",
    "print(x)"
   ]
  },
  {
   "cell_type": "code",
   "execution_count": 40,
   "metadata": {},
   "outputs": [
    {
     "name": "stdout",
     "output_type": "stream",
     "text": [
      "Bam\n"
     ]
    }
   ],
   "source": [
    "s=\"Bamana\"\n",
    "x=s.rstrip('na')\n",
    "print(x)"
   ]
  },
  {
   "cell_type": "code",
   "execution_count": 42,
   "metadata": {},
   "outputs": [
    {
     "name": "stdout",
     "output_type": "stream",
     "text": [
      "HELLO PYTHON\n"
     ]
    }
   ],
   "source": [
    "s=\"Hello Python\"\n",
    "x=s.upper()\n",
    "print(x)"
   ]
  },
  {
   "cell_type": "code",
   "execution_count": 46,
   "metadata": {},
   "outputs": [
    {
     "name": "stdout",
     "output_type": "stream",
     "text": [
      "hello python\n"
     ]
    }
   ],
   "source": [
    "x=s.lower()\n",
    "print(x)"
   ]
  },
  {
   "cell_type": "code",
   "execution_count": 47,
   "metadata": {},
   "outputs": [
    {
     "name": "stdout",
     "output_type": "stream",
     "text": [
      "hELLO pYTHON\n"
     ]
    }
   ],
   "source": [
    "z=s.swapcase()\n",
    "print(z)"
   ]
  },
  {
   "cell_type": "markdown",
   "metadata": {},
   "source": [
    "* 4) title()\n",
    "* 5) capitalize()"
   ]
  },
  {
   "cell_type": "code",
   "execution_count": 48,
   "metadata": {},
   "outputs": [
    {
     "name": "stdout",
     "output_type": "stream",
     "text": [
      "Hello How R U\n",
      "Hello how r u\n"
     ]
    }
   ],
   "source": [
    "s=\"Hello How R U\"\n",
    "x=s.title()\n",
    "print(x)\n",
    "y=s.capitalize()\n",
    "print(y)"
   ]
  },
  {
   "cell_type": "markdown",
   "metadata": {},
   "source": [
    "## To check type of Characters present in a String (check function) Boolean\n",
    "- isalnum() returns Ture if all Character are Alphanumeric"
   ]
  },
  {
   "cell_type": "code",
   "execution_count": 49,
   "metadata": {},
   "outputs": [
    {
     "name": "stdout",
     "output_type": "stream",
     "text": [
      "True\n"
     ]
    }
   ],
   "source": [
    "x='Company123'\n",
    "print(x.isalnum())"
   ]
  },
  {
   "cell_type": "code",
   "execution_count": 52,
   "metadata": {},
   "outputs": [
    {
     "name": "stdout",
     "output_type": "stream",
     "text": [
      "False\n"
     ]
    }
   ],
   "source": [
    "print(x.isdigit())"
   ]
  },
  {
   "cell_type": "code",
   "execution_count": 53,
   "metadata": {},
   "outputs": [
    {
     "name": "stdout",
     "output_type": "stream",
     "text": [
      "True\n"
     ]
    }
   ],
   "source": [
    "x='Company'\n",
    "print(x.isalpha())"
   ]
  },
  {
   "cell_type": "code",
   "execution_count": 55,
   "metadata": {},
   "outputs": [
    {
     "name": "stdout",
     "output_type": "stream",
     "text": [
      "False\n"
     ]
    }
   ],
   "source": [
    "x='Company  abc'\n",
    "print(x.isalpha())"
   ]
  },
  {
   "cell_type": "code",
   "execution_count": 56,
   "metadata": {},
   "outputs": [
    {
     "name": "stdout",
     "output_type": "stream",
     "text": [
      "True\n"
     ]
    }
   ],
   "source": [
    "x='123'\n",
    "print(x.isdigit())"
   ]
  },
  {
   "cell_type": "code",
   "execution_count": 58,
   "metadata": {},
   "outputs": [
    {
     "name": "stdout",
     "output_type": "stream",
     "text": [
      "False\n"
     ]
    }
   ],
   "source": [
    "x='123 456 789'\n",
    "print(x.isdigit())"
   ]
  },
  {
   "cell_type": "code",
   "execution_count": 64,
   "metadata": {},
   "outputs": [
    {
     "name": "stdout",
     "output_type": "stream",
     "text": [
      "False\n"
     ]
    }
   ],
   "source": [
    "x='123 56'\n",
    "print(x.isnumeric())"
   ]
  },
  {
   "cell_type": "code",
   "execution_count": 66,
   "metadata": {},
   "outputs": [
    {
     "name": "stdout",
     "output_type": "stream",
     "text": [
      "True\n"
     ]
    }
   ],
   "source": [
    "x='company123'\n",
    "print(x.islower())"
   ]
  },
  {
   "cell_type": "code",
   "execution_count": 67,
   "metadata": {},
   "outputs": [
    {
     "name": "stdout",
     "output_type": "stream",
     "text": [
      "False\n"
     ]
    }
   ],
   "source": [
    "x='Company123'\n",
    "print(x.islower())"
   ]
  },
  {
   "cell_type": "code",
   "execution_count": 71,
   "metadata": {},
   "outputs": [
    {
     "name": "stdout",
     "output_type": "stream",
     "text": [
      "True\n"
     ]
    }
   ],
   "source": [
    "x='ABC 123'\n",
    "print(x.isupper())"
   ]
  },
  {
   "cell_type": "code",
   "execution_count": 73,
   "metadata": {},
   "outputs": [
    {
     "name": "stdout",
     "output_type": "stream",
     "text": [
      "False\n"
     ]
    }
   ],
   "source": [
    "x='Company123'\n",
    "print(x.isupper())"
   ]
  },
  {
   "cell_type": "code",
   "execution_count": 78,
   "metadata": {},
   "outputs": [
    {
     "name": "stdout",
     "output_type": "stream",
     "text": [
      "True\n"
     ]
    }
   ],
   "source": [
    "x='Hey How Are You'\n",
    "print(x.istitle())"
   ]
  },
  {
   "cell_type": "code",
   "execution_count": 79,
   "metadata": {},
   "outputs": [
    {
     "name": "stdout",
     "output_type": "stream",
     "text": [
      "False\n"
     ]
    }
   ],
   "source": [
    "x='Hey HOw ARe You'\n",
    "print(x.istitle())"
   ]
  },
  {
   "cell_type": "code",
   "execution_count": 80,
   "metadata": {},
   "outputs": [
    {
     "name": "stdout",
     "output_type": "stream",
     "text": [
      "True\n",
      "True\n"
     ]
    }
   ],
   "source": [
    "a=\"22 Names\"\n",
    "b=\"This Is %?\"\n",
    "print(a.istitle())\n",
    "print(b.istitle())"
   ]
  },
  {
   "cell_type": "code",
   "execution_count": 83,
   "metadata": {},
   "outputs": [
    {
     "name": "stdout",
     "output_type": "stream",
     "text": [
      "True\n",
      "True\n",
      "False\n",
      "True\n",
      "False\n"
     ]
    }
   ],
   "source": [
    "a=\"MyFolder\"\n",
    "b=\"Demo002\"\n",
    "c='my demo'\n",
    "d='my_demo'\n",
    "e='123abc'\n",
    "print(a.isidentifier())\n",
    "print(b.isidentifier())\n",
    "print(c.isidentifier())\n",
    "print(d.isidentifier())\n",
    "print(e.isidentifier())"
   ]
  },
  {
   "cell_type": "code",
   "execution_count": 87,
   "metadata": {},
   "outputs": [
    {
     "name": "stdout",
     "output_type": "stream",
     "text": [
      "True\n"
     ]
    }
   ],
   "source": [
    "a=\"   \"\n",
    "x=a.isspace()\n",
    "print(x)"
   ]
  },
  {
   "cell_type": "code",
   "execution_count": 92,
   "metadata": {},
   "outputs": [
    {
     "name": "stdout",
     "output_type": "stream",
     "text": [
      "3\n"
     ]
    }
   ],
   "source": [
    "a='Hello how are you'\n",
    "c=0\n",
    "for i in range(len(a)):\n",
    "    if a[i].isspace() :\n",
    "        c+=1\n",
    "print(c)"
   ]
  },
  {
   "cell_type": "markdown",
   "metadata": {},
   "source": [
    "* /**/"
   ]
  },
  {
   "cell_type": "code",
   "execution_count": 104,
   "metadata": {},
   "outputs": [
    {
     "name": "stdout",
     "output_type": "stream",
     "text": [
      "4 Spaces\n"
     ]
    }
   ],
   "source": [
    "a='Hello how are you 123'\n",
    "c=0\n",
    "for i in a:\n",
    "    if i.isspace() :\n",
    "        c+=1\n",
    "print(c,'Spaces')"
   ]
  },
  {
   "cell_type": "code",
   "execution_count": 103,
   "metadata": {},
   "outputs": [
    {
     "name": "stdout",
     "output_type": "stream",
     "text": [
      "14 Aplhabet\n"
     ]
    }
   ],
   "source": [
    "a='Hello how are you 123'\n",
    "c=0\n",
    "for i in a:\n",
    "    if i.isalpha() :\n",
    "        c+=1\n",
    "print(c,'Aplhabet')"
   ]
  },
  {
   "cell_type": "code",
   "execution_count": 102,
   "metadata": {},
   "outputs": [
    {
     "name": "stdout",
     "output_type": "stream",
     "text": [
      "4 Upper cases\n"
     ]
    }
   ],
   "source": [
    "a='Hello How Are You 123'\n",
    "c=0\n",
    "for i in a:\n",
    "    if i.isupper() :\n",
    "        c+=1\n",
    "print(c,'Upper cases')"
   ]
  },
  {
   "cell_type": "code",
   "execution_count": 101,
   "metadata": {},
   "outputs": [
    {
     "name": "stdout",
     "output_type": "stream",
     "text": [
      "10 Lower cases\n"
     ]
    }
   ],
   "source": [
    "a='Hello How Are You 123'\n",
    "c=0\n",
    "for i in a:\n",
    "    if i.islower() :\n",
    "        c+=1\n",
    "print(c,'Lower cases')"
   ]
  },
  {
   "cell_type": "code",
   "execution_count": 1,
   "metadata": {},
   "outputs": [
    {
     "name": "stdout",
     "output_type": "stream",
     "text": [
      "Enter ur Str : abcdefghi\n",
      "a e i\n"
     ]
    }
   ],
   "source": [
    "a=input('Enter ur Str : ')\n",
    "if len(a)%2==0:\n",
    "    print(a)\n",
    "else :\n",
    "    print(a[0],a[(len(a)//2)],a[-1])"
   ]
  },
  {
   "cell_type": "code",
   "execution_count": 11,
   "metadata": {},
   "outputs": [
    {
     "name": "stdout",
     "output_type": "stream",
     "text": [
      "6 Aplhabet\n",
      "7 Digit\n",
      "4 Special Char\n",
      "23 Sum\n",
      "3.2857142857142856 Avg\n"
     ]
    }
   ],
   "source": [
    "s=\"Py$t00567@23hon@_\"\n",
    "ca=0\n",
    "su=0\n",
    "cd=0\n",
    "csp=0\n",
    "for i in s:\n",
    "    if i.isalpha() :\n",
    "        ca+=1\n",
    "    elif i.isdigit() :\n",
    "        cd+=1\n",
    "        su=su+int(i)\n",
    "    else :\n",
    "        csp+=1\n",
    "        \n",
    "print(ca,'Aplhabet')\n",
    "print(cd,'Digit')\n",
    "print(csp,'Special Char')\n",
    "print(su,'Sum')\n",
    "print(su/cd,'Avg')"
   ]
  },
  {
   "cell_type": "markdown",
   "metadata": {},
   "source": [
    "* find()\n",
    "    - Returns index of first occurence of the given substring\n",
    "    - if it is not avilable then we will get -1\n",
    "* syntax s.find(Sub String)   /\n",
    "* syntax s.find(Sub String , Begin , End)"
   ]
  },
  {
   "cell_type": "code",
   "execution_count": 13,
   "metadata": {},
   "outputs": [
    {
     "name": "stdout",
     "output_type": "stream",
     "text": [
      "a : 2\n",
      "good : 7\n",
      "H : 20\n",
      "x : -1\n"
     ]
    }
   ],
   "source": [
    "s='I am a good Boy a , HAHAHA  -DP '\n",
    "print('a :',s.find('a'))\n",
    "print('good :',s.find('good'))\n",
    "print('H :',s.find('H'))\n",
    "print('x :',s.find('x'))"
   ]
  },
  {
   "cell_type": "code",
   "execution_count": 15,
   "metadata": {},
   "outputs": [
    {
     "name": "stdout",
     "output_type": "stream",
     "text": [
      "a : 16\n"
     ]
    }
   ],
   "source": [
    "print('a :',s.find('a',7,25))\n"
   ]
  },
  {
   "cell_type": "markdown",
   "metadata": {},
   "source": [
    "* count()"
   ]
  },
  {
   "cell_type": "code",
   "execution_count": 29,
   "metadata": {},
   "outputs": [
    {
     "name": "stdout",
     "output_type": "stream",
     "text": [
      "6 a\n",
      "1 a from 8 to 16\n",
      "2 abc\n",
      "0 xyz\n",
      "8 space\n",
      "32 *** Length ***\n"
     ]
    }
   ],
   "source": [
    "s=\"abc dgha b cjb a ib dabcjabh ma \"\n",
    "print(s.count('a'),'a')\n",
    "print(s.count('a',8,16),'a from 8 to 16')\n",
    "print(s.count('abc'),'abc')\n",
    "print(s.count('xyz'),'xyz')\n",
    "print(s.count(' '),'space')\n",
    "print(s.count('')-1,'*** Length ***')"
   ]
  },
  {
   "cell_type": "markdown",
   "metadata": {},
   "source": [
    "* replace()\n",
    "    - to replace old string with new one \n",
    "* syntax ++> s.replace(old string , new string)\n",
    "* syntax ==|> s.replace(old string , new string , number of times)"
   ]
  },
  {
   "cell_type": "code",
   "execution_count": 33,
   "metadata": {},
   "outputs": [
    {
     "name": "stdout",
     "output_type": "stream",
     "text": [
      "learning Java is good , Python is eaaasy to learn\n"
     ]
    }
   ],
   "source": [
    "s='learning java is good , java is eaaasy to learn'\n",
    "x=s.replace('java','Python')\n",
    "print(x)"
   ]
  },
  {
   "cell_type": "code",
   "execution_count": 36,
   "metadata": {},
   "outputs": [
    {
     "name": "stdout",
     "output_type": "stream",
     "text": [
      "My self Dixit Patel , diit is at 5th floor , Dixit is in Py class\n"
     ]
    }
   ],
   "source": [
    "s='My self Diit Patel , diit is at 5th floor , Diit is in Py class'\n",
    "x=s.replace('Diit','Dixit')\n",
    "print(x)"
   ]
  },
  {
   "cell_type": "markdown",
   "metadata": {},
   "source": [
    "* split()\n",
    "    - split(seperator) ==> We can split the given String acc. to specified seperator by using split() method\n",
    "    - by default seperator is space\n",
    "    - return type is list"
   ]
  },
  {
   "cell_type": "code",
   "execution_count": 38,
   "metadata": {},
   "outputs": [
    {
     "name": "stdout",
     "output_type": "stream",
     "text": [
      "['java', 'python', 'Maths', 'PS', 'DSA']\n"
     ]
    }
   ],
   "source": [
    "s=\"java$python$Maths$PS$DSA\"\n",
    "x=s.split('$')\n",
    "print(x)"
   ]
  },
  {
   "cell_type": "code",
   "execution_count": 47,
   "metadata": {},
   "outputs": [
    {
     "name": "stdout",
     "output_type": "stream",
     "text": [
      "['learning', 'java', 'is', 'good']\n"
     ]
    }
   ],
   "source": [
    "s='learning java is good '\n",
    "x=s.split()\n",
    "print(x)"
   ]
  },
  {
   "cell_type": "code",
   "execution_count": 50,
   "metadata": {},
   "outputs": [
    {
     "name": "stdout",
     "output_type": "stream",
     "text": [
      "['29', '10', '2025']\n"
     ]
    }
   ],
   "source": [
    "d='29-10-2025'\n",
    "l=d.split('-')\n",
    "print(l)"
   ]
  },
  {
   "cell_type": "code",
   "execution_count": 51,
   "metadata": {},
   "outputs": [
    {
     "name": "stdout",
     "output_type": "stream",
     "text": [
      "['He', '', 'o Wor', 'd']\n"
     ]
    }
   ],
   "source": [
    "s=\"Hello World\"\n",
    "x=s.split(\"l\")\n",
    "print(x)"
   ]
  },
  {
   "cell_type": "code",
   "execution_count": 53,
   "metadata": {},
   "outputs": [
    {
     "name": "stdout",
     "output_type": "stream",
     "text": [
      "['abc', '']\n"
     ]
    }
   ],
   "source": [
    "s=\"abcd\"\n",
    "x=s.split(\"d\")\n",
    "print(x)"
   ]
  },
  {
   "cell_type": "code",
   "execution_count": 55,
   "metadata": {},
   "outputs": [
    {
     "name": "stdout",
     "output_type": "stream",
     "text": [
      "['', 'bcd']\n"
     ]
    }
   ],
   "source": [
    "s=\"abcd\"\n",
    "x=s.split(\"a\")\n",
    "print(x)"
   ]
  },
  {
   "cell_type": "code",
   "execution_count": 56,
   "metadata": {},
   "outputs": [
    {
     "name": "stdout",
     "output_type": "stream",
     "text": [
      "['abcd']\n"
     ]
    }
   ],
   "source": [
    "s=\"abcd\"\n",
    "x=s.split(\"e\")\n",
    "print(x)"
   ]
  },
  {
   "cell_type": "markdown",
   "metadata": {},
   "source": [
    "* Translate() with maketrans() function"
   ]
  },
  {
   "cell_type": "code",
   "execution_count": 58,
   "metadata": {},
   "outputs": [
    {
     "name": "stdout",
     "output_type": "stream",
     "text": [
      "!\"#$%&'()*+,-./:;<=>?@[\\]^_`{|}~\n",
      "32\n"
     ]
    }
   ],
   "source": [
    "import string\n",
    "print(string.punctuation)\n",
    "print(len(string.punctuation))"
   ]
  },
  {
   "cell_type": "markdown",
   "metadata": {},
   "source": [
    "* maketrans()\n",
    "    * make translation table\n",
    "    * mapping of character to thier replacement or to none for deletion\n",
    "      * syntax ==> maketrans(from_chars,to_chars,delete_chars)  "
   ]
  },
  {
   "cell_type": "markdown",
   "metadata": {},
   "source": [
    "* translate()\n",
    "    - applies translation table created by maketrans()\n",
    "    - return new string with characters replaced or deleted"
   ]
  },
  {
   "cell_type": "code",
   "execution_count": 4,
   "metadata": {},
   "outputs": [
    {
     "name": "stdout",
     "output_type": "stream",
     "text": [
      "{33: None, 34: None, 35: None, 36: None, 37: None, 38: None, 39: None, 40: None, 41: None, 42: None, 43: None, 44: None, 45: None, 46: None, 47: None, 58: None, 59: None, 60: None, 61: None, 62: None, 63: None, 64: None, 91: None, 92: None, 93: None, 94: None, 95: None, 96: None, 123: None, 124: None, 125: None, 126: None}\n",
      "Python\n"
     ]
    }
   ],
   "source": [
    "import string\n",
    "s='Py$@th!!on'\n",
    "l=s.maketrans('','',string.punctuation)\n",
    "x=s.translate(l)\n",
    "print(l)\n",
    "print(x)"
   ]
  },
  {
   "cell_type": "code",
   "execution_count": 1,
   "metadata": {},
   "outputs": [
    {
     "name": "stdout",
     "output_type": "stream",
     "text": [
      "{33: None}\n",
      "Dixit P@tel\n"
     ]
    }
   ],
   "source": [
    "s='Di!x!it P@!!t!!el!'\n",
    "l=s.maketrans('','','!')\n",
    "x=s.translate(l)\n",
    "print(l)\n",
    "print(x)"
   ]
  },
  {
   "cell_type": "code",
   "execution_count": 3,
   "metadata": {},
   "outputs": [
    {
     "name": "stdout",
     "output_type": "stream",
     "text": [
      "Hello Joe!!\n"
     ]
    }
   ],
   "source": [
    "s='Hello Sam!!'\n",
    "x=\"mSa\"\n",
    "y='eJo'\n",
    "l=s.maketrans(x,y)\n",
    "x=s.translate(l)\n",
    "print(x)"
   ]
  },
  {
   "cell_type": "code",
   "execution_count": 17,
   "metadata": {},
   "outputs": [
    {
     "name": "stdout",
     "output_type": "stream",
     "text": [
      "##John is #developer # musician##\n"
     ]
    }
   ],
   "source": [
    "#wap to replace each special symbol with hash in the following statement\n",
    "s='/*John is @developer & musician!!'\n",
    "l=s.maketrans(string.punctuation,'#'*32)\n",
    "x=s.translate(l)\n",
    "print(x)"
   ]
  },
  {
   "cell_type": "code",
   "execution_count": 21,
   "metadata": {
    "scrolled": true
   },
   "outputs": [
    {
     "name": "stdout",
     "output_type": "stream",
     "text": [
      "##John is #developer # musician##\n"
     ]
    }
   ],
   "source": [
    "#wap to replace each special symbol with hash in the following statement\n",
    "import string\n",
    "s='/*John is @developer & musician!!'\n",
    "for i in s :\n",
    "    if i.isalnum() :\n",
    "        pass \n",
    "    elif i.isspace():\n",
    "        pass\n",
    "    else :\n",
    "        s=s.replace(i,'#')\n",
    "print(s)"
   ]
  },
  {
   "cell_type": "code",
   "execution_count": 23,
   "metadata": {},
   "outputs": [
    {
     "name": "stdout",
     "output_type": "stream",
     "text": [
      "##John is #developer # musician##\n"
     ]
    }
   ],
   "source": [
    "#wap to replace each special symbol with hash in the following statement\n",
    "import string\n",
    "s='/*John is @developer & musician!!'\n",
    "for i in string.punctuation :\n",
    "     s=s.replace(i,'#')\n",
    "print(s)"
   ]
  },
  {
   "cell_type": "markdown",
   "metadata": {},
   "source": [
    "### wap to remove ith char from the string \n"
   ]
  },
  {
   "cell_type": "code",
   "execution_count": 5,
   "metadata": {},
   "outputs": [
    {
     "name": "stdout",
     "output_type": "stream",
     "text": [
      "Enter index : 2\n",
      "Helo World\n"
     ]
    }
   ],
   "source": [
    "s='Hello World'\n",
    "i=int(input('Enter index : '))\n",
    "s=s.replace(s[i],'',1)\n",
    "print(s)"
   ]
  },
  {
   "cell_type": "code",
   "execution_count": 1,
   "metadata": {},
   "outputs": [
    {
     "name": "stdout",
     "output_type": "stream",
     "text": [
      "Enter index : 2\n",
      "Helo World\n"
     ]
    }
   ],
   "source": [
    "s='Hello World'\n",
    "i=int(input('Enter index : '))\n",
    "x=s[:i]+s[i+1:]\n",
    "print(x)"
   ]
  },
  {
   "cell_type": "markdown",
   "metadata": {},
   "source": [
    "### count of all occurences of a substring in a given string by ignoring the Cace"
   ]
  },
  {
   "cell_type": "code",
   "execution_count": 8,
   "metadata": {},
   "outputs": [
    {
     "name": "stdout",
     "output_type": "stream",
     "text": [
      "8\n"
     ]
    }
   ],
   "source": [
    "s='Welcome to USA. usa is awesome , In the Usa, freedom rings and dreams begin. The uSa a land of opportunity and diversity, brings people from all walks of life together. With a strong economy, the USA is a global leader. From the Statue of Liberty to the Grand Canyon, the USA is  iconic landmarks captivate the world. The USA, forged by pioneers, is constantly being remade and redefined by its people. This is the story of the USA, yesterday and today.'\n",
    "x=s.lower()\n",
    "print(x.count('usa'))"
   ]
  },
  {
   "cell_type": "markdown",
   "metadata": {},
   "source": [
    "### Wap to display all position of a substring in a given String"
   ]
  },
  {
   "cell_type": "code",
   "execution_count": 12,
   "metadata": {},
   "outputs": [
    {
     "name": "stdout",
     "output_type": "stream",
     "text": [
      "0\n",
      "3\n",
      "5\n",
      "9\n",
      "13\n",
      "18\n",
      "19\n"
     ]
    }
   ],
   "source": [
    "s=\"abcababcdabceacedbaa\"\n",
    "p='a'\n",
    "for i in range(len(s)):\n",
    "    if s[i]==p:\n",
    "        print(i)"
   ]
  },
  {
   "cell_type": "markdown",
   "metadata": {},
   "source": [
    "### WAP to merge char of two string into a single string by taking character alternatively"
   ]
  },
  {
   "cell_type": "code",
   "execution_count": 24,
   "metadata": {},
   "outputs": [
    {
     "name": "stdout",
     "output_type": "stream",
     "text": [
      "A1B2C32C3\n"
     ]
    }
   ],
   "source": [
    "x='ABC'\n",
    "y='12345'\n",
    "z=''\n",
    "\n",
    "for i in range( min(len(x),len(y)) ):\n",
    "    z=z+x[i]+y[i]\n",
    "    \n",
    "print(z)\n",
    "\n",
    "#for i in range(len(x) if len(x)<len(y) else len(y)):"
   ]
  },
  {
   "cell_type": "markdown",
   "metadata": {},
   "source": [
    "### WAP to find word"
   ]
  },
  {
   "cell_type": "code",
   "execution_count": 3,
   "metadata": {},
   "outputs": [
    {
     "name": "stdout",
     "output_type": "stream",
     "text": [
      "Found at position 0\n",
      "Found at position 7\n",
      "Found at position 14\n",
      "Found at position 21\n"
     ]
    }
   ],
   "source": [
    "s='abcnhgfabcnhfdabcnhgfabc'\n",
    "sub='abc'\n",
    "f=False\n",
    "x=-1 #position\n",
    "while True :\n",
    "    x=s.find(sub,x+1,len(s))\n",
    "    if -1==x:\n",
    "        break\n",
    "    print('Found at position',x)\n",
    "    f=True\n",
    "if f==False:\n",
    "        print('Not Found')"
   ]
  },
  {
   "cell_type": "code",
   "execution_count": 13,
   "metadata": {},
   "outputs": [
    {
     "name": "stdout",
     "output_type": "stream",
     "text": [
      "Found at Pos 0\n",
      "Found at Pos 7\n",
      "Found at Pos 14\n",
      "Found at Pos 21\n"
     ]
    }
   ],
   "source": [
    "s='abcnhgfabcnhfdabcnhgfabc'\n",
    "sub='abc'\n",
    "for i in range(len(s)):\n",
    "    if sub==s[i:i+len(sub)] :\n",
    "        print('Founded at Pos',i)"
   ]
  },
  {
   "cell_type": "code",
   "execution_count": 51,
   "metadata": {},
   "outputs": [
    {
     "name": "stdout",
     "output_type": "stream",
     "text": [
      "aaaa\n",
      "bbb\n",
      "cc\n"
     ]
    }
   ],
   "source": [
    "s=\"a4b3c2\"\n",
    "for i in range(0 if s[0].isalpha else 1 ,len(s)):\n",
    "    if s[i].isalpha():\n",
    "        print(s[i]*int(s[i+1]))"
   ]
  },
  {
   "cell_type": "markdown",
   "metadata": {},
   "source": [
    "### Wap to check the validity of the password\n",
    "* 1) min 8 char\n",
    "* 2) alpha should be between [a-z]\n",
    "* 3) Aleast one UpperCase [A_Z]\n",
    "* 4) Aleast one digit [1-9]\n",
    "* 5) Aleast one Special Char [ _,@,$] "
   ]
  },
  {
   "cell_type": "code",
   "execution_count": 80,
   "metadata": {},
   "outputs": [
    {
     "name": "stdout",
     "output_type": "stream",
     "text": [
      "Enter Password : DDDD@123\n",
      "InValid\n"
     ]
    }
   ],
   "source": [
    "s=input(\"Enter Password : \")\n",
    "u=0 #Count UpperCase\n",
    "d=0 #Count Digit\n",
    "sc=0 #Count Special Char\n",
    "l=0 # Count of LowerCase\n",
    "for i in range(len(s)):\n",
    "    if s[i].islower():\n",
    "            l+=1\n",
    "    if s[i].isupper():\n",
    "            u+=1\n",
    "    if s[i].isdigit():\n",
    "            d+=1\n",
    "    if s[i] in \"_@$\":\n",
    "            sc+=1\n",
    "            \n",
    "if u>1 and l>1 and d>1 and sc>1 and (l+u+d+sc)==len(s):\n",
    "    print('Valid')\n",
    "else :\n",
    "    print('InValid')"
   ]
  },
  {
   "cell_type": "markdown",
   "metadata": {},
   "source": [
    "### WAP to shift the decimal digit and  if shift is greater than the number of n then reverse the String\n",
    "* n='12345'\n",
    "* if shift=1 o/p 23451\n",
    "* if shift=2 o/p 34512\n",
    "* if shift=6 o/p 54321"
   ]
  },
  {
   "cell_type": "code",
   "execution_count": 12,
   "metadata": {},
   "outputs": [
    {
     "name": "stdout",
     "output_type": "stream",
     "text": [
      "Enter Shift : 2\n",
      "34512\n"
     ]
    }
   ],
   "source": [
    "s=int(input(\"Enter Shift : \"))\n",
    "n=\"12345\"\n",
    "if s>len(n) :\n",
    "    print(n[::-1])\n",
    "else :\n",
    "    print(n[s:]+n[:s])"
   ]
  },
  {
   "cell_type": "markdown",
   "metadata": {},
   "source": [
    "## Tuple\n",
    "    tuple is same as list expect it is immutable once we create tuple object we cant not perform any changes in that object \n",
    "    - Tuple is readonly version of list\n",
    "    - if our data is fixed and never changed then we should go for tuple\n",
    "    - insertion order is preserved\n",
    "    - duplicates are allowed\n",
    "    - We can diff object by using index hence index play imp role in tuple\n",
    "    - Tuple supporta both +ve and -ve index\n",
    "    - We can represent tuple element in paranthesis with comma seperator\n",
    "    - paranthesis are optional but recommended to use "
   ]
  },
  {
   "cell_type": "code",
   "execution_count": 4,
   "metadata": {},
   "outputs": [
    {
     "name": "stdout",
     "output_type": "stream",
     "text": [
      "<class 'tuple'>\n",
      "()\n"
     ]
    }
   ],
   "source": [
    "a=(10,20,30)\n",
    "b=10,20,30\n",
    "c=(10,\"apple\",(10,20,30))\n",
    "t=()\n",
    "print(type(t))\n",
    "print(t)"
   ]
  },
  {
   "cell_type": "code",
   "execution_count": 5,
   "metadata": {},
   "outputs": [
    {
     "name": "stdout",
     "output_type": "stream",
     "text": [
      "<class 'int'>\n",
      "10\n"
     ]
    }
   ],
   "source": [
    "t=(10)\n",
    "print(type(t))\n",
    "print(t)"
   ]
  },
  {
   "cell_type": "code",
   "execution_count": 7,
   "metadata": {},
   "outputs": [
    {
     "name": "stdout",
     "output_type": "stream",
     "text": [
      "<class 'tuple'>\n",
      "(10,)\n"
     ]
    }
   ],
   "source": [
    "t=(10,)\n",
    "print(type(t))\n",
    "print(t)"
   ]
  },
  {
   "cell_type": "code",
   "execution_count": 9,
   "metadata": {},
   "outputs": [
    {
     "name": "stdout",
     "output_type": "stream",
     "text": [
      "<class 'tuple'>\n",
      "(10, 20, 30, 40)\n"
     ]
    }
   ],
   "source": [
    "t=10,20,30,40\n",
    "print(type(t))\n",
    "print(t)"
   ]
  },
  {
   "cell_type": "code",
   "execution_count": 15,
   "metadata": {},
   "outputs": [
    {
     "name": "stdout",
     "output_type": "stream",
     "text": [
      "<class 'tuple'>\n",
      "(10, 12, 14, 16, 18)\n"
     ]
    }
   ],
   "source": [
    "t=tuple(range(10,20,2))\n",
    "\n",
    "print(type(t))\n",
    "print(t)"
   ]
  },
  {
   "cell_type": "markdown",
   "metadata": {},
   "source": [
    "* Accessing element of tuple \n",
    "    * 1) by using index\n",
    "    * 2) by using slicing operator "
   ]
  },
  {
   "cell_type": "code",
   "execution_count": 16,
   "metadata": {},
   "outputs": [
    {
     "name": "stdout",
     "output_type": "stream",
     "text": [
      "30\n",
      "50\n",
      "50\n"
     ]
    },
    {
     "ename": "IndexError",
     "evalue": "tuple index out of range",
     "output_type": "error",
     "traceback": [
      "\u001b[1;31m---------------------------------------------------------------------------\u001b[0m",
      "\u001b[1;31mIndexError\u001b[0m                                Traceback (most recent call last)",
      "\u001b[1;32m<ipython-input-16-21d5f8b70951>\u001b[0m in \u001b[0;36m<module>\u001b[1;34m\u001b[0m\n\u001b[0;32m      3\u001b[0m \u001b[0mprint\u001b[0m\u001b[1;33m(\u001b[0m\u001b[0mt\u001b[0m\u001b[1;33m[\u001b[0m\u001b[1;36m4\u001b[0m\u001b[1;33m]\u001b[0m\u001b[1;33m)\u001b[0m\u001b[1;33m\u001b[0m\u001b[1;33m\u001b[0m\u001b[0m\n\u001b[0;32m      4\u001b[0m \u001b[0mprint\u001b[0m\u001b[1;33m(\u001b[0m\u001b[0mt\u001b[0m\u001b[1;33m[\u001b[0m\u001b[1;33m-\u001b[0m\u001b[1;36m2\u001b[0m\u001b[1;33m]\u001b[0m\u001b[1;33m)\u001b[0m\u001b[1;33m\u001b[0m\u001b[1;33m\u001b[0m\u001b[0m\n\u001b[1;32m----> 5\u001b[1;33m \u001b[0mprint\u001b[0m\u001b[1;33m(\u001b[0m\u001b[0mt\u001b[0m\u001b[1;33m[\u001b[0m\u001b[1;36m100\u001b[0m\u001b[1;33m]\u001b[0m\u001b[1;33m)\u001b[0m\u001b[1;33m\u001b[0m\u001b[1;33m\u001b[0m\u001b[0m\n\u001b[0m",
      "\u001b[1;31mIndexError\u001b[0m: tuple index out of range"
     ]
    }
   ],
   "source": [
    "t=10,20,30,40,50,60\n",
    "print(t[2])\n",
    "print(t[4])\n",
    "print(t[-2])\n",
    "print(t[100])"
   ]
  },
  {
   "cell_type": "code",
   "execution_count": 23,
   "metadata": {},
   "outputs": [
    {
     "name": "stdout",
     "output_type": "stream",
     "text": [
      "(30, 40, 50)\n",
      "(10, 20)\n",
      "(50, 60)\n",
      "(30, 40, 50, 60)\n",
      "(10, 30, 50)\n",
      "(60, 50, 40, 30, 20, 10)\n"
     ]
    }
   ],
   "source": [
    "print(t[2:5])\n",
    "print(t[:2])\n",
    "print(t[4:])\n",
    "print(t[2:100]) # print(t[2:])\n",
    "print(t[::2])\n",
    "print(t[::-1])"
   ]
  },
  {
   "cell_type": "markdown",
   "metadata": {},
   "source": [
    "## Maths operator for tuple\n",
    "- concentration +"
   ]
  },
  {
   "cell_type": "code",
   "execution_count": 25,
   "metadata": {},
   "outputs": [
    {
     "name": "stdout",
     "output_type": "stream",
     "text": [
      "(10, 20, 30, 40, 50, 60, 70, 80)\n"
     ]
    }
   ],
   "source": [
    "t1=10,20,30,40\n",
    "t2=50,60,70,80\n",
    "t=t1+t2\n",
    "print(t)"
   ]
  },
  {
   "cell_type": "markdown",
   "metadata": {},
   "source": [
    "- repetaion *"
   ]
  },
  {
   "cell_type": "code",
   "execution_count": 28,
   "metadata": {},
   "outputs": [
    {
     "name": "stdout",
     "output_type": "stream",
     "text": [
      "(10, 20, 30, 10, 20, 30, 10, 20, 30)\n"
     ]
    }
   ],
   "source": [
    "t1=10,20,30,\n",
    "t=t1*3\n",
    "print(t)"
   ]
  }
 ],
 "metadata": {
  "kernelspec": {
   "display_name": "Python 3",
   "language": "python",
   "name": "python3"
  },
  "language_info": {
   "codemirror_mode": {
    "name": "ipython",
    "version": 3
   },
   "file_extension": ".py",
   "mimetype": "text/x-python",
   "name": "python",
   "nbconvert_exporter": "python",
   "pygments_lexer": "ipython3",
   "version": "3.8.5"
  }
 },
 "nbformat": 4,
 "nbformat_minor": 4
}
